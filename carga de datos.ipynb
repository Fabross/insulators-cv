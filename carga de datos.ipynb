{
 "cells": [
  {
   "cell_type": "code",
   "execution_count": 6,
   "id": "c29f94fe",
   "metadata": {
    "scrolled": false
   },
   "outputs": [
    {
     "name": "stderr",
     "output_type": "stream",
     "text": [
      "2023-05-29 17:26:48.197319: I tensorflow/core/util/port.cc:110] oneDNN custom operations are on. You may see slightly different numerical results due to floating-point round-off errors from different computation orders. To turn them off, set the environment variable `TF_ENABLE_ONEDNN_OPTS=0`.\n",
      "2023-05-29 17:26:48.216382: I tensorflow/tsl/cuda/cudart_stub.cc:28] Could not find cuda drivers on your machine, GPU will not be used.\n",
      "2023-05-29 17:26:48.259267: I tensorflow/tsl/cuda/cudart_stub.cc:28] Could not find cuda drivers on your machine, GPU will not be used.\n",
      "2023-05-29 17:26:48.260149: I tensorflow/core/platform/cpu_feature_guard.cc:182] This TensorFlow binary is optimized to use available CPU instructions in performance-critical operations.\n",
      "To enable the following instructions: AVX2 AVX512F AVX512_VNNI FMA, in other operations, rebuild TensorFlow with the appropriate compiler flags.\n",
      "2023-05-29 17:26:48.794218: W tensorflow/compiler/tf2tensorrt/utils/py_utils.cc:38] TF-TRT Warning: Could not find TensorRT\n"
     ]
    }
   ],
   "source": [
    "from tensorflow.keras.layers import Dense, Flatten\n",
    "from tensorflow.keras.models import Sequential\n",
    "from tensorflow.keras import Model\n",
    "from tensorflow.keras.utils import to_categorical\n",
    "import pandas as pd\n",
    "import os\n",
    "import cv2\n",
    "from tqdm import tqdm\n",
    "\n",
    "from src.pre_processing import Pre_processing\n"
   ]
  },
  {
   "cell_type": "markdown",
   "id": "2255944a",
   "metadata": {},
   "source": [
    "1. Cargar imagenes en variables"
   ]
  },
  {
   "cell_type": "code",
   "execution_count": 9,
   "id": "af54329d",
   "metadata": {
    "scrolled": true
   },
   "outputs": [
    {
     "name": "stdout",
     "output_type": "stream",
     "text": [
      "Loading ../InsulatorsDataSet/03 Extraction/ images...\n"
     ]
    },
    {
     "name": "stderr",
     "output_type": "stream",
     "text": [
      "100%|█████████████████████████████████████████████| 5/5 [00:03<00:00,  1.48it/s]\n"
     ]
    }
   ],
   "source": [
    "data_dir = '../InsulatorsDataSet/'\n",
    "img_path = []\n",
    "img_data = []\n",
    "labels = []\n",
    "# extraction_features in format list( (extraction, kaolin(g/l)) )\n",
    "extraction_features = [('03','16'),('04','8'),('05','20'),('06','10'),('07', '6'),('08','25')]\n",
    "for i in range(len(extraction_features)):\n",
    "    idx = extraction_features[i][0]\n",
    "    kaolin = extraction_features[i][1]\n",
    "    print(f\"Loading {data_dir+idx+' Extraction/'} images...\")\n",
    "    for insulators_dir in tqdm(os.listdir(data_dir+idx+' Extraction')):\n",
    "        for img in os.listdir(data_dir+idx+' Extraction/'+insulators_dir):\n",
    "            if img.split(\"_\")[1] == \"35.jpg\":\n",
    "                pre_processing = Pre_processing(data_dir+idx+' Extraction/'+insulators_dir+\"/\"+img)\n",
    "                img_data += pre_processing.operate()\n",
    "                img_path += [data_dir+idx+' Extraction/'+insulators_dir+\"/\"+img]*5\n",
    "                labels += [kaolin]*5\n",
    "    break\n",
    "df = pd.DataFrame({'img': img_path, 'preprocessed': img_data , 'label':labels})"
   ]
  },
  {
   "cell_type": "code",
   "execution_count": 1,
   "id": "a17b9ad8",
   "metadata": {},
   "outputs": [],
   "source": [
    "from src.utils import load_data\n"
   ]
  },
  {
   "cell_type": "code",
   "execution_count": 2,
   "id": "8cb384af",
   "metadata": {},
   "outputs": [
    {
     "name": "stdout",
     "output_type": "stream",
     "text": [
      "Loading ../InsulatorsDataSet/03 Extraction/ images...\n",
      "Loading ../InsulatorsDataSet/04 Extraction/ images...\n",
      "Loading ../InsulatorsDataSet/05 Extraction/ images...\n",
      "Loading ../InsulatorsDataSet/06 Extraction/ images...\n",
      "Loading ../InsulatorsDataSet/07 Extraction/ images...\n",
      "Loading ../InsulatorsDataSet/08 Extraction/ images...\n"
     ]
    }
   ],
   "source": [
    "df = load_data()"
   ]
  },
  {
   "cell_type": "code",
   "execution_count": 3,
   "id": "9c45b502",
   "metadata": {},
   "outputs": [],
   "source": [
    "x = df.preprocessed\n",
    "y = df.label"
   ]
  },
  {
   "cell_type": "code",
   "execution_count": 4,
   "id": "5be3e735",
   "metadata": {},
   "outputs": [
    {
     "data": {
      "text/plain": [
       "0      [[0, 0, 0, 0, 0, 0, 0, 0, 0, 0, 0, 0, 0, 0, 0,...\n",
       "1      [[0, 0, 0, 0, 0, 0, 0, 0, 0, 0, 0, 0, 0, 0, 0,...\n",
       "2      [[0, 0, 0, 0, 0, 0, 0, 0, 0, 0, 0, 0, 0, 0, 0,...\n",
       "3      [[0, 0, 0, 0, 0, 0, 0, 0, 0, 0, 0, 0, 0, 0, 0,...\n",
       "4      [[0, 0, 2, 2, 0, 0, 1, 1, 1, 1, 0, 0, 0, 0, 0,...\n",
       "                             ...                        \n",
       "595    [[0, 0, 0, 0, 0, 0, 0, 0, 0, 0, 0, 0, 0, 0, 0,...\n",
       "596    [[0, 0, 0, 0, 0, 0, 0, 0, 0, 0, 0, 0, 0, 0, 0,...\n",
       "597    [[0, 0, 0, 0, 0, 0, 0, 0, 0, 0, 0, 0, 0, 0, 0,...\n",
       "598    [[0, 0, 0, 0, 0, 0, 0, 0, 0, 0, 0, 0, 0, 0, 0,...\n",
       "599    [[0, 1, 1, 0, 2, 2, 0, 0, 0, 0, 0, 0, 0, 2, 2,...\n",
       "Name: preprocessed, Length: 600, dtype: object"
      ]
     },
     "execution_count": 4,
     "metadata": {},
     "output_type": "execute_result"
    }
   ],
   "source": [
    "x"
   ]
  },
  {
   "cell_type": "code",
   "execution_count": 44,
   "id": "77ecd237",
   "metadata": {},
   "outputs": [],
   "source": [
    "res = pre_processing.operate()"
   ]
  },
  {
   "cell_type": "code",
   "execution_count": 46,
   "id": "9df8d3ab",
   "metadata": {},
   "outputs": [
    {
     "ename": "AttributeError",
     "evalue": "'Pre_processing' object has no attribute 'results'",
     "output_type": "error",
     "traceback": [
      "\u001b[0;31m---------------------------------------------------------------------------\u001b[0m",
      "\u001b[0;31mAttributeError\u001b[0m                            Traceback (most recent call last)",
      "Cell \u001b[0;32mIn[46], line 1\u001b[0m\n\u001b[0;32m----> 1\u001b[0m \u001b[43mpre_processing\u001b[49m\u001b[38;5;241;43m.\u001b[39;49m\u001b[43mresults\u001b[49m\n",
      "\u001b[0;31mAttributeError\u001b[0m: 'Pre_processing' object has no attribute 'results'"
     ]
    }
   ],
   "source": [
    "pre_processing.results"
   ]
  },
  {
   "cell_type": "code",
   "execution_count": 3,
   "id": "fd26eb3c",
   "metadata": {},
   "outputs": [],
   "source": [
    "for data in df.values:\n",
    "    A = Pre_processing(data[0])\n",
    "    A.operate()\n",
    "    break"
   ]
  },
  {
   "cell_type": "code",
   "execution_count": 4,
   "id": "fbdbb027",
   "metadata": {},
   "outputs": [],
   "source": [
    "A.imshow()"
   ]
  },
  {
   "cell_type": "markdown",
   "id": "d3e07ff2",
   "metadata": {},
   "source": [
    "2. Asignar labels"
   ]
  },
  {
   "cell_type": "markdown",
   "id": "e3117c44",
   "metadata": {},
   "source": [
    "2. Aplicar preprocesamiento"
   ]
  },
  {
   "cell_type": "code",
   "execution_count": 3,
   "id": "b3f1ffbd",
   "metadata": {},
   "outputs": [
    {
     "name": "stderr",
     "output_type": "stream",
     "text": [
      "2023-05-29 12:49:03.814959: I tensorflow/compiler/xla/stream_executor/cuda/cuda_gpu_executor.cc:996] successful NUMA node read from SysFS had negative value (-1), but there must be at least one NUMA node, so returning NUMA node zero. See more at https://github.com/torvalds/linux/blob/v6.0/Documentation/ABI/testing/sysfs-bus-pci#L344-L355\n",
      "2023-05-29 12:49:03.815352: W tensorflow/core/common_runtime/gpu/gpu_device.cc:1956] Cannot dlopen some GPU libraries. Please make sure the missing libraries mentioned above are installed properly if you would like to use GPU. Follow the guide at https://www.tensorflow.org/install/gpu for how to download and setup the required libraries for your platform.\n",
      "Skipping registering GPU devices...\n"
     ]
    }
   ],
   "source": [
    "DIM_IMG = 50\n",
    "classifier = Sequential()\n",
    "classifier.add(Flatten(input_shape=X, Y))\n",
    "classifier.add(Dense(units=25, input_dim=DIM_IMG, activation=\"softsign\"))\n",
    "classifier.compile(optimizer='nadam', loss='categorical_crossentropy', metrics=['accuracy'])"
   ]
  },
  {
   "cell_type": "code",
   "execution_count": null,
   "id": "2fdd57ad",
   "metadata": {},
   "outputs": [],
   "source": [
    "class InsulatorModel(Model):\n",
    "    def __init__(self):\n",
    "        super(InsulatorModel, self).__init__()\n",
    "        self.flatten = Flatten()\n",
    "        self.d1 = Dense(25, activation='softsign')\n",
    "\n",
    "    def call(self, x):\n",
    "        x = self.flatten(x)\n",
    "        x = self.d1(x)\n",
    "        return self.d2(x)\n",
    "\n",
    "# Crea una instancia del modelo\n",
    "model = MyModel()\n"
   ]
  }
 ],
 "metadata": {
  "kernelspec": {
   "display_name": "CV-2013",
   "language": "python",
   "name": "cv-2013"
  },
  "language_info": {
   "codemirror_mode": {
    "name": "ipython",
    "version": 3
   },
   "file_extension": ".py",
   "mimetype": "text/x-python",
   "name": "python",
   "nbconvert_exporter": "python",
   "pygments_lexer": "ipython3",
   "version": "3.11.3"
  }
 },
 "nbformat": 4,
 "nbformat_minor": 5
}
