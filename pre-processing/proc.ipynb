{
 "cells": [
  {
   "cell_type": "code",
   "execution_count": null,
   "metadata": {},
   "outputs": [],
   "source": [
    "import cv2\n",
    "\n",
    "IMAGE_PATH = \"InsulatorsDataSet/01 Extraction/Insulator 1/1_35.jpg\"\n",
    "\n",
    "# Read image\n",
    "img = cv2.imread(IMAGE_PATH)\n",
    "# Resize image\n",
    "scale_percent = 20\n",
    "width = img.shape[1] * scale_percent // 100\n",
    "height = img.shape[0] * scale_percent // 100\n",
    "img_resized = cv2.resize(img, (width, height), interpolation = cv2.INTER_AREA)\n",
    "\n",
    "# ----- pre-processing -----\n",
    "# BGR to GRAY\n",
    "img_gray = cv2.cvtColor(img_resized, cv2.COLOR_BGR2GRAY)\n",
    "# Apply Gaussian Blur\n",
    "img_blur = cv2.GaussianBlur(img_gray, (3, 3), cv2.BORDER_DEFAULT)\n",
    "\n",
    "# Apply Sobel filter\n",
    "grad_x = cv2.Sobel(img_blur, cv2.CV_64F, 1, 0, ksize = 3)\n",
    "grad_y = cv2.Sobel(img_blur, cv2.CV_64F, 0, 1, ksize = 3)\n",
    "abs_grad_x = cv2.convertScaleAbs(grad_x)\n",
    "abs_grad_y = cv2.convertScaleAbs(grad_y)\n",
    "grad = cv2.addWeighted(abs_grad_x, 0.5, abs_grad_y, 0.5, 0)\n",
    "\n",
    "# Apply Cany filter\n",
    "t_lower = 50  # Lower Threshold\n",
    "t_upper = 150  # Upper threshold\n",
    "edge = cv2.Canny(img_blur, t_lower, t_upper)\n",
    "\n",
    "# Apply Binary Threshold\n",
    "bthresh = cv2.threshold(img_blur, 127, 255, cv2.THRESH_BINARY)\n",
    "\n",
    "# Apply Adaptative Gaussian Threshold\n",
    "athresh = cv2.adaptiveThreshold(img_blur, 255, cv2.ADAPTIVE_THRESH_GAUSSIAN_C, cv2.THRESH_BINARY, 11 ,2)\n",
    "\n",
    "# Apply Otsu Threshold\n",
    "othresh = cv2.threshold(img_blur, 0, 255, cv2.THRESH_BINARY + cv2.THRESH_OTSU)\n",
    "\n",
    "cv2.imshow(\"Sobel filter\", grad)\n",
    "cv2.imshow(\"Cany filter\", edge)\n",
    "cv2.imshow(\"Binary Threshold filter\", bthresh[1])\n",
    "cv2.imshow(\"Adaptative Threshold filter\", athresh)\n",
    "cv2.imshow(\"Otsu Threshold filter\", othresh[1])\n",
    "cv2.waitKey(0)\n",
    "cv2.destroyAllWindows()"
   ]
  }
 ],
 "metadata": {
  "language_info": {
   "name": "python"
  },
  "orig_nbformat": 4
 },
 "nbformat": 4,
 "nbformat_minor": 2
}
