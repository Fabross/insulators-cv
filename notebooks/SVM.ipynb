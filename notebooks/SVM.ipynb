{
 "cells": [
  {
   "cell_type": "code",
   "execution_count": 1,
   "id": "2083ec2d",
   "metadata": {},
   "outputs": [],
   "source": [
    "from sklearn.linear_model import SGDClassifier\n",
    "from sklearn.model_selection import train_test_split, GridSearchCV\n",
    "import numpy as np\n",
    "import os\n",
    "\n",
    "np.random.seed(42)\n",
    "os.chdir('/home/fabricio/Documentos/universidad/cv/insulators-cv/')"
   ]
  },
  {
   "cell_type": "markdown",
   "id": "00a94aa5",
   "metadata": {},
   "source": [
    "## 1.- Cargando datos"
   ]
  },
  {
   "cell_type": "code",
   "execution_count": 3,
   "id": "d7dfc73d",
   "metadata": {},
   "outputs": [
    {
     "name": "stdout",
     "output_type": "stream",
     "text": [
      "Loading ../InsulatorsDataSet/03 Extraction/ images...\n",
      "Loading ../InsulatorsDataSet/04 Extraction/ images...\n",
      "Loading ../InsulatorsDataSet/05 Extraction/ images...\n",
      "Loading ../InsulatorsDataSet/06 Extraction/ images...\n",
      "Loading ../InsulatorsDataSet/07 Extraction/ images...\n",
      "Loading ../InsulatorsDataSet/08 Extraction/ images...\n"
     ]
    }
   ],
   "source": [
    "from src.utils import load_data\n",
    "import numpy as np\n",
    "\n",
    "def shuffle_along_axis(a, axis):\n",
    "    idx = np.random.rand(*a.shape).argsort(axis=axis)\n",
    "    return np.take_along_axis(a,idx,axis=axis)\n",
    "\n",
    "img_data, label_data = load_data()\n",
    "images = np.array(img_data)\n",
    "images = images/255\n",
    "labels = np.array(label_data)\n",
    "\n",
    "idx = shuffle_along_axis(np.arange(600), 0)"
   ]
  },
  {
   "cell_type": "markdown",
   "id": "39b80013",
   "metadata": {},
   "source": [
    "### 1.1.- Separando en distintos datasets"
   ]
  },
  {
   "cell_type": "code",
   "execution_count": 4,
   "id": "f10e30c5",
   "metadata": {},
   "outputs": [],
   "source": [
    "N_VALIDATION = 108\n",
    "N_TRAIN = 432\n",
    "N_TEST = 60\n",
    "\n",
    "X_train = images[idx[:N_TRAIN]]\n",
    "y_train = labels[idx[:N_TRAIN]]\n",
    "\n",
    "X_val = images[idx[N_TRAIN:N_TRAIN+N_VALIDATION]]\n",
    "y_val = labels[idx[N_TRAIN:N_TRAIN+N_VALIDATION]]\n",
    "\n",
    "X_test = images[idx[N_TRAIN+N_VALIDATION:]]\n",
    "y_test = labels[idx[N_TRAIN+N_VALIDATION:]]\n"
   ]
  },
  {
   "cell_type": "code",
   "execution_count": 23,
   "id": "8f10758f",
   "metadata": {
    "scrolled": true
   },
   "outputs": [
    {
     "name": "stdout",
     "output_type": "stream",
     "text": [
      "Fitting 10 folds for each of 6 candidates, totalling 60 fits\n",
      "[CV 1/10] END ..........alpha=1e-05, loss=hinge;, score=0.852 total time=  25.6s\n",
      "[CV 2/10] END ..........alpha=1e-05, loss=hinge;, score=0.944 total time=  23.4s\n",
      "[CV 3/10] END ..........alpha=1e-05, loss=hinge;, score=0.926 total time=  22.4s\n",
      "[CV 4/10] END ..........alpha=1e-05, loss=hinge;, score=0.852 total time=  21.2s\n",
      "[CV 5/10] END ..........alpha=1e-05, loss=hinge;, score=0.815 total time=  23.3s\n",
      "[CV 6/10] END ..........alpha=1e-05, loss=hinge;, score=0.815 total time=  23.7s\n",
      "[CV 7/10] END ..........alpha=1e-05, loss=hinge;, score=0.889 total time=  22.0s\n",
      "[CV 8/10] END ..........alpha=1e-05, loss=hinge;, score=0.870 total time=  21.6s\n",
      "[CV 9/10] END ..........alpha=1e-05, loss=hinge;, score=0.815 total time=  21.6s\n",
      "[CV 10/10] END .........alpha=1e-05, loss=hinge;, score=0.926 total time=  22.2s\n",
      "[CV 1/10] END .........alpha=0.0001, loss=hinge;, score=0.852 total time=  22.5s\n",
      "[CV 2/10] END .........alpha=0.0001, loss=hinge;, score=0.963 total time=  22.2s\n",
      "[CV 3/10] END .........alpha=0.0001, loss=hinge;, score=0.926 total time=  22.3s\n",
      "[CV 4/10] END .........alpha=0.0001, loss=hinge;, score=0.852 total time=  21.0s\n",
      "[CV 5/10] END .........alpha=0.0001, loss=hinge;, score=0.796 total time=  23.2s\n",
      "[CV 6/10] END .........alpha=0.0001, loss=hinge;, score=0.815 total time=  23.8s\n",
      "[CV 7/10] END .........alpha=0.0001, loss=hinge;, score=0.870 total time=  22.0s\n",
      "[CV 8/10] END .........alpha=0.0001, loss=hinge;, score=0.870 total time=  21.7s\n",
      "[CV 9/10] END .........alpha=0.0001, loss=hinge;, score=0.815 total time=  21.6s\n",
      "[CV 10/10] END ........alpha=0.0001, loss=hinge;, score=0.926 total time=  21.6s\n",
      "[CV 1/10] END ..........alpha=0.001, loss=hinge;, score=0.852 total time=  22.5s\n",
      "[CV 2/10] END ..........alpha=0.001, loss=hinge;, score=0.963 total time=  22.2s\n",
      "[CV 3/10] END ..........alpha=0.001, loss=hinge;, score=0.926 total time=  22.2s\n",
      "[CV 4/10] END ..........alpha=0.001, loss=hinge;, score=0.852 total time=  21.0s\n",
      "[CV 5/10] END ..........alpha=0.001, loss=hinge;, score=0.796 total time=  23.1s\n",
      "[CV 6/10] END ..........alpha=0.001, loss=hinge;, score=0.815 total time=  23.8s\n",
      "[CV 7/10] END ..........alpha=0.001, loss=hinge;, score=0.870 total time=  21.9s\n",
      "[CV 8/10] END ..........alpha=0.001, loss=hinge;, score=0.870 total time=  21.6s\n",
      "[CV 9/10] END ..........alpha=0.001, loss=hinge;, score=0.815 total time=  21.6s\n",
      "[CV 10/10] END .........alpha=0.001, loss=hinge;, score=0.926 total time=  21.6s\n",
      "[CV 1/10] END ...........alpha=0.01, loss=hinge;, score=0.852 total time=  22.7s\n",
      "[CV 2/10] END ...........alpha=0.01, loss=hinge;, score=0.963 total time=  22.3s\n",
      "[CV 3/10] END ...........alpha=0.01, loss=hinge;, score=0.926 total time=  22.2s\n",
      "[CV 4/10] END ...........alpha=0.01, loss=hinge;, score=0.852 total time=  21.1s\n",
      "[CV 5/10] END ...........alpha=0.01, loss=hinge;, score=0.796 total time=  23.2s\n",
      "[CV 6/10] END ...........alpha=0.01, loss=hinge;, score=0.815 total time=  23.7s\n",
      "[CV 7/10] END ...........alpha=0.01, loss=hinge;, score=0.870 total time=  21.9s\n",
      "[CV 8/10] END ...........alpha=0.01, loss=hinge;, score=0.870 total time=  21.6s\n",
      "[CV 9/10] END ...........alpha=0.01, loss=hinge;, score=0.815 total time=  22.3s\n",
      "[CV 10/10] END ..........alpha=0.01, loss=hinge;, score=0.926 total time=  22.2s\n",
      "[CV 1/10] END ............alpha=0.1, loss=hinge;, score=0.852 total time=  22.8s\n",
      "[CV 2/10] END ............alpha=0.1, loss=hinge;, score=0.963 total time=  23.9s\n",
      "[CV 3/10] END ............alpha=0.1, loss=hinge;, score=0.926 total time=  24.4s\n",
      "[CV 4/10] END ............alpha=0.1, loss=hinge;, score=0.852 total time=  22.2s\n",
      "[CV 5/10] END ............alpha=0.1, loss=hinge;, score=0.796 total time=  24.9s\n",
      "[CV 6/10] END ............alpha=0.1, loss=hinge;, score=0.796 total time=  25.2s\n",
      "[CV 7/10] END ............alpha=0.1, loss=hinge;, score=0.870 total time=  22.7s\n",
      "[CV 8/10] END ............alpha=0.1, loss=hinge;, score=0.870 total time=  23.0s\n",
      "[CV 9/10] END ............alpha=0.1, loss=hinge;, score=0.815 total time=  22.5s\n",
      "[CV 10/10] END ...........alpha=0.1, loss=hinge;, score=0.926 total time=  22.8s\n",
      "[CV 1/10] END ..............alpha=1, loss=hinge;, score=0.852 total time=  23.9s\n",
      "[CV 2/10] END ..............alpha=1, loss=hinge;, score=0.963 total time=  23.8s\n",
      "[CV 3/10] END ..............alpha=1, loss=hinge;, score=0.926 total time=  23.8s\n",
      "[CV 4/10] END ..............alpha=1, loss=hinge;, score=0.852 total time=  22.6s\n",
      "[CV 5/10] END ..............alpha=1, loss=hinge;, score=0.796 total time=  24.0s\n",
      "[CV 6/10] END ..............alpha=1, loss=hinge;, score=0.815 total time=  23.7s\n",
      "[CV 7/10] END ..............alpha=1, loss=hinge;, score=0.870 total time=  22.0s\n",
      "[CV 8/10] END ..............alpha=1, loss=hinge;, score=0.870 total time=  23.0s\n",
      "[CV 9/10] END ..............alpha=1, loss=hinge;, score=0.815 total time=  22.5s\n",
      "[CV 10/10] END .............alpha=1, loss=hinge;, score=0.944 total time=  22.5s\n"
     ]
    },
    {
     "data": {
      "text/html": [
       "<style>#sk-container-id-1 {color: black;background-color: white;}#sk-container-id-1 pre{padding: 0;}#sk-container-id-1 div.sk-toggleable {background-color: white;}#sk-container-id-1 label.sk-toggleable__label {cursor: pointer;display: block;width: 100%;margin-bottom: 0;padding: 0.3em;box-sizing: border-box;text-align: center;}#sk-container-id-1 label.sk-toggleable__label-arrow:before {content: \"▸\";float: left;margin-right: 0.25em;color: #696969;}#sk-container-id-1 label.sk-toggleable__label-arrow:hover:before {color: black;}#sk-container-id-1 div.sk-estimator:hover label.sk-toggleable__label-arrow:before {color: black;}#sk-container-id-1 div.sk-toggleable__content {max-height: 0;max-width: 0;overflow: hidden;text-align: left;background-color: #f0f8ff;}#sk-container-id-1 div.sk-toggleable__content pre {margin: 0.2em;color: black;border-radius: 0.25em;background-color: #f0f8ff;}#sk-container-id-1 input.sk-toggleable__control:checked~div.sk-toggleable__content {max-height: 200px;max-width: 100%;overflow: auto;}#sk-container-id-1 input.sk-toggleable__control:checked~label.sk-toggleable__label-arrow:before {content: \"▾\";}#sk-container-id-1 div.sk-estimator input.sk-toggleable__control:checked~label.sk-toggleable__label {background-color: #d4ebff;}#sk-container-id-1 div.sk-label input.sk-toggleable__control:checked~label.sk-toggleable__label {background-color: #d4ebff;}#sk-container-id-1 input.sk-hidden--visually {border: 0;clip: rect(1px 1px 1px 1px);clip: rect(1px, 1px, 1px, 1px);height: 1px;margin: -1px;overflow: hidden;padding: 0;position: absolute;width: 1px;}#sk-container-id-1 div.sk-estimator {font-family: monospace;background-color: #f0f8ff;border: 1px dotted black;border-radius: 0.25em;box-sizing: border-box;margin-bottom: 0.5em;}#sk-container-id-1 div.sk-estimator:hover {background-color: #d4ebff;}#sk-container-id-1 div.sk-parallel-item::after {content: \"\";width: 100%;border-bottom: 1px solid gray;flex-grow: 1;}#sk-container-id-1 div.sk-label:hover label.sk-toggleable__label {background-color: #d4ebff;}#sk-container-id-1 div.sk-serial::before {content: \"\";position: absolute;border-left: 1px solid gray;box-sizing: border-box;top: 0;bottom: 0;left: 50%;z-index: 0;}#sk-container-id-1 div.sk-serial {display: flex;flex-direction: column;align-items: center;background-color: white;padding-right: 0.2em;padding-left: 0.2em;position: relative;}#sk-container-id-1 div.sk-item {position: relative;z-index: 1;}#sk-container-id-1 div.sk-parallel {display: flex;align-items: stretch;justify-content: center;background-color: white;position: relative;}#sk-container-id-1 div.sk-item::before, #sk-container-id-1 div.sk-parallel-item::before {content: \"\";position: absolute;border-left: 1px solid gray;box-sizing: border-box;top: 0;bottom: 0;left: 50%;z-index: -1;}#sk-container-id-1 div.sk-parallel-item {display: flex;flex-direction: column;z-index: 1;position: relative;background-color: white;}#sk-container-id-1 div.sk-parallel-item:first-child::after {align-self: flex-end;width: 50%;}#sk-container-id-1 div.sk-parallel-item:last-child::after {align-self: flex-start;width: 50%;}#sk-container-id-1 div.sk-parallel-item:only-child::after {width: 0;}#sk-container-id-1 div.sk-dashed-wrapped {border: 1px dashed gray;margin: 0 0.4em 0.5em 0.4em;box-sizing: border-box;padding-bottom: 0.4em;background-color: white;}#sk-container-id-1 div.sk-label label {font-family: monospace;font-weight: bold;display: inline-block;line-height: 1.2em;}#sk-container-id-1 div.sk-label-container {text-align: center;}#sk-container-id-1 div.sk-container {/* jupyter's `normalize.less` sets `[hidden] { display: none; }` but bootstrap.min.css set `[hidden] { display: none !important; }` so we also need the `!important` here to be able to override the default hidden behavior on the sphinx rendered scikit-learn.org. See: https://github.com/scikit-learn/scikit-learn/issues/21755 */display: inline-block !important;position: relative;}#sk-container-id-1 div.sk-text-repr-fallback {display: none;}</style><div id=\"sk-container-id-1\" class=\"sk-top-container\"><div class=\"sk-text-repr-fallback\"><pre>GridSearchCV(cv=10, estimator=SGDClassifier(random_state=0),\n",
       "             param_grid={&#x27;alpha&#x27;: [1e-05, 0.0001, 0.001, 0.01, 0.1, 1],\n",
       "                         &#x27;loss&#x27;: [&#x27;hinge&#x27;]},\n",
       "             verbose=3)</pre><b>In a Jupyter environment, please rerun this cell to show the HTML representation or trust the notebook. <br />On GitHub, the HTML representation is unable to render, please try loading this page with nbviewer.org.</b></div><div class=\"sk-container\" hidden><div class=\"sk-item sk-dashed-wrapped\"><div class=\"sk-label-container\"><div class=\"sk-label sk-toggleable\"><input class=\"sk-toggleable__control sk-hidden--visually\" id=\"sk-estimator-id-1\" type=\"checkbox\" ><label for=\"sk-estimator-id-1\" class=\"sk-toggleable__label sk-toggleable__label-arrow\">GridSearchCV</label><div class=\"sk-toggleable__content\"><pre>GridSearchCV(cv=10, estimator=SGDClassifier(random_state=0),\n",
       "             param_grid={&#x27;alpha&#x27;: [1e-05, 0.0001, 0.001, 0.01, 0.1, 1],\n",
       "                         &#x27;loss&#x27;: [&#x27;hinge&#x27;]},\n",
       "             verbose=3)</pre></div></div></div><div class=\"sk-parallel\"><div class=\"sk-parallel-item\"><div class=\"sk-item\"><div class=\"sk-label-container\"><div class=\"sk-label sk-toggleable\"><input class=\"sk-toggleable__control sk-hidden--visually\" id=\"sk-estimator-id-2\" type=\"checkbox\" ><label for=\"sk-estimator-id-2\" class=\"sk-toggleable__label sk-toggleable__label-arrow\">estimator: SGDClassifier</label><div class=\"sk-toggleable__content\"><pre>SGDClassifier(random_state=0)</pre></div></div></div><div class=\"sk-serial\"><div class=\"sk-item\"><div class=\"sk-estimator sk-toggleable\"><input class=\"sk-toggleable__control sk-hidden--visually\" id=\"sk-estimator-id-3\" type=\"checkbox\" ><label for=\"sk-estimator-id-3\" class=\"sk-toggleable__label sk-toggleable__label-arrow\">SGDClassifier</label><div class=\"sk-toggleable__content\"><pre>SGDClassifier(random_state=0)</pre></div></div></div></div></div></div></div></div></div></div>"
      ],
      "text/plain": [
       "GridSearchCV(cv=10, estimator=SGDClassifier(random_state=0),\n",
       "             param_grid={'alpha': [1e-05, 0.0001, 0.001, 0.01, 0.1, 1],\n",
       "                         'loss': ['hinge']},\n",
       "             verbose=3)"
      ]
     },
     "execution_count": 23,
     "metadata": {},
     "output_type": "execute_result"
    }
   ],
   "source": [
    "linear_classifier = SGDClassifier(random_state=0)\n",
    "\n",
    "parameters = {'alpha':[0.00001, 0.0001, 0.001, 0.01, 0.1, 1], \n",
    "             'loss':['hinge']}\n",
    "searcher = GridSearchCV(linear_classifier, parameters, cv=10, verbose=3)\n",
    "searcher.fit(X_train, y_train)"
   ]
  },
  {
   "cell_type": "code",
   "execution_count": 24,
   "id": "44ccdcb7",
   "metadata": {},
   "outputs": [
    {
     "name": "stdout",
     "output_type": "stream",
     "text": [
      "Best CV params {'alpha': 1, 'loss': 'hinge'}\n",
      "Best CV accuracy 0.8703703703703705\n",
      "Test accuracy of best grid search hypers: 0.8666666666666667\n"
     ]
    }
   ],
   "source": [
    "# Report the best parameters and the corresponding score\n",
    "print(\"Best CV params\", searcher.best_params_)\n",
    "print(\"Best CV accuracy\", searcher.best_score_)\n",
    "print(\"Test accuracy of best grid search hypers:\", searcher.score(X_test, y_test))"
   ]
  },
  {
   "cell_type": "code",
   "execution_count": null,
   "id": "22e8f247",
   "metadata": {},
   "outputs": [],
   "source": []
  }
 ],
 "metadata": {
  "kernelspec": {
   "display_name": "CV-2013",
   "language": "python",
   "name": "cv-2013"
  },
  "language_info": {
   "codemirror_mode": {
    "name": "ipython",
    "version": 3
   },
   "file_extension": ".py",
   "mimetype": "text/x-python",
   "name": "python",
   "nbconvert_exporter": "python",
   "pygments_lexer": "ipython3",
   "version": "3.11.3"
  }
 },
 "nbformat": 4,
 "nbformat_minor": 5
}
