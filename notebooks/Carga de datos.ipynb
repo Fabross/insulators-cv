{
 "cells": [
  {
   "cell_type": "code",
   "execution_count": 24,
   "id": "c29f94fe",
   "metadata": {
    "scrolled": false
   },
   "outputs": [],
   "source": [
    "from tensorflow.keras.layers import Dense, Flatten\n",
    "from tensorflow.keras.models import Sequential\n",
    "from tensorflow.keras import Model\n",
    "from tensorflow.keras.utils import to_categorical\n",
    "import pandas as pd\n",
    "import os\n",
    "import cv2\n",
    "from tqdm import tqdm\n",
    "import numpy as np\n",
    "from tensorflow_docs.plots import HistoryPlotter\n",
    "\n",
    "os.chdir('/home/fabricio/Documentos/universidad/cv/insulators-cv/')\n",
    "from src.pre_processing import Pre_processing"
   ]
  },
  {
   "cell_type": "code",
   "execution_count": 9,
   "id": "af54329d",
   "metadata": {
    "scrolled": true
   },
   "outputs": [
    {
     "name": "stdout",
     "output_type": "stream",
     "text": [
      "Loading ../InsulatorsDataSet/03 Extraction/ images...\n"
     ]
    },
    {
     "name": "stderr",
     "output_type": "stream",
     "text": [
      "100%|██████████████████████████████████████████████████████████████████████████████████████████████████████████████████████████████████████████| 5/5 [00:07<00:00,  1.58s/it]\n"
     ]
    }
   ],
   "source": [
    "data_dir = '../InsulatorsDataSet/'\n",
    "img_path = []\n",
    "img_data = []\n",
    "labels = []\n",
    "# extraction_features in format list( (extraction, kaolin(g/l)) )\n",
    "extraction_features = [('03',3),('04',1),('05',4),('06',2),('07', 0),('08',5)]\n",
    "for i in range(len(extraction_features)):\n",
    "    idx = extraction_features[i][0]\n",
    "    kaolin = extraction_features[i][1]\n",
    "    print(f\"Loading {data_dir+idx+' Extraction/'} images...\")\n",
    "    for insulators_dir in tqdm(os.listdir(data_dir+idx+' Extraction')):\n",
    "        for img in os.listdir(data_dir+idx+' Extraction/'+insulators_dir):\n",
    "            if img.split(\"_\")[1] == \"35.jpg\":\n",
    "                pre_processing = Pre_processing(data_dir+idx+' Extraction/'+insulators_dir+\"/\"+img)\n",
    "                pre_processing.operate()\n",
    "                for result in pre_processing.results:\n",
    "                    img_data.append(result.reshape(-1))\n",
    "                img_path += [data_dir+idx+' Extraction/'+insulators_dir+\"/\"+img]*5\n",
    "                labels += [kaolin]*5\n",
    "    break\n",
    "df = pd.DataFrame({'img': img_path, 'preprocessed': img_data , 'label':labels})"
   ]
  },
  {
   "cell_type": "code",
   "execution_count": 8,
   "id": "8e768624",
   "metadata": {},
   "outputs": [],
   "source": [
    "from src.utils import load_data\n",
    "from sklearn.model_selection import train_test_split\n",
    "from tensorflow.random import set_seed"
   ]
  },
  {
   "cell_type": "code",
   "execution_count": 4,
   "id": "5fb3d124",
   "metadata": {
    "scrolled": true
   },
   "outputs": [
    {
     "name": "stdout",
     "output_type": "stream",
     "text": [
      "Loading ../InsulatorsDataSet/03 Extraction/ images...\n",
      "Loading ../InsulatorsDataSet/04 Extraction/ images...\n",
      "Loading ../InsulatorsDataSet/05 Extraction/ images...\n",
      "Loading ../InsulatorsDataSet/06 Extraction/ images...\n",
      "Loading ../InsulatorsDataSet/07 Extraction/ images...\n",
      "Loading ../InsulatorsDataSet/08 Extraction/ images...\n"
     ]
    }
   ],
   "source": [
    "x, y = load_data()"
   ]
  },
  {
   "cell_type": "code",
   "execution_count": 5,
   "id": "a48dfcb3",
   "metadata": {},
   "outputs": [],
   "source": [
    "x_train, x_test, y_train, y_test = train_test_split(x,y, test_size=0.1, random_state=42)"
   ]
  },
  {
   "cell_type": "code",
   "execution_count": 14,
   "id": "dc0f7642",
   "metadata": {},
   "outputs": [],
   "source": [
    "np.random.seed(42)\n",
    "set_seed(42)\n",
    "classifier = Sequential()\n",
    "classifier.add(Dense(units = 25, activation = \"softsign\", input_shape = (634014,)))\n",
    "classifier.add(Dense(units = 6, activation = 'softmax'))\n",
    "classifier.compile(optimizer = 'nadam', loss = 'sparse_categorical_crossentropy', metrics = ['accuracy'])\n"
   ]
  },
  {
   "cell_type": "code",
   "execution_count": 15,
   "id": "f7897149",
   "metadata": {},
   "outputs": [
    {
     "name": "stdout",
     "output_type": "stream",
     "text": [
      "You must install pydot (`pip install pydot`) and install graphviz (see instructions at https://graphviz.gitlab.io/download/) for plot_model to work.\n"
     ]
    }
   ],
   "source": [
    "from keras.utils.vis_utils import plot_model\n",
    "plot_model(classifier, to_file='model_plot.png', show_shapes=True, show_layer_names=True)"
   ]
  },
  {
   "cell_type": "code",
   "execution_count": 16,
   "id": "4e254b02",
   "metadata": {
    "scrolled": true
   },
   "outputs": [
    {
     "name": "stdout",
     "output_type": "stream",
     "text": [
      "Epoch 1/200\n",
      "14/14 [==============================] - 3s 152ms/step - loss: 2.3902 - accuracy: 0.2431 - val_loss: 1.6839 - val_accuracy: 0.3519\n",
      "Epoch 2/200\n",
      "14/14 [==============================] - 2s 131ms/step - loss: 1.4290 - accuracy: 0.4375 - val_loss: 1.4693 - val_accuracy: 0.4259\n",
      "Epoch 3/200\n",
      "14/14 [==============================] - 2s 132ms/step - loss: 1.1044 - accuracy: 0.6111 - val_loss: 1.4100 - val_accuracy: 0.4259\n",
      "Epoch 4/200\n",
      "14/14 [==============================] - 2s 136ms/step - loss: 0.9932 - accuracy: 0.6690 - val_loss: 1.3354 - val_accuracy: 0.5093\n",
      "Epoch 5/200\n",
      "14/14 [==============================] - 2s 131ms/step - loss: 0.8406 - accuracy: 0.7454 - val_loss: 1.2483 - val_accuracy: 0.5463\n",
      "Epoch 6/200\n",
      "14/14 [==============================] - 2s 132ms/step - loss: 0.7125 - accuracy: 0.7870 - val_loss: 1.2398 - val_accuracy: 0.5000\n",
      "Epoch 7/200\n",
      "14/14 [==============================] - 2s 132ms/step - loss: 0.6744 - accuracy: 0.8241 - val_loss: 1.1113 - val_accuracy: 0.6111\n",
      "Epoch 8/200\n",
      "14/14 [==============================] - 2s 133ms/step - loss: 0.5962 - accuracy: 0.8519 - val_loss: 1.0427 - val_accuracy: 0.6296\n",
      "Epoch 9/200\n",
      "14/14 [==============================] - 2s 131ms/step - loss: 0.4991 - accuracy: 0.8819 - val_loss: 1.0694 - val_accuracy: 0.6111\n",
      "Epoch 10/200\n",
      "14/14 [==============================] - 2s 132ms/step - loss: 0.5244 - accuracy: 0.8681 - val_loss: 0.9663 - val_accuracy: 0.7407\n",
      "Epoch 11/200\n",
      "14/14 [==============================] - 2s 131ms/step - loss: 0.4760 - accuracy: 0.8773 - val_loss: 1.1275 - val_accuracy: 0.6111\n",
      "Epoch 12/200\n",
      "14/14 [==============================] - 2s 132ms/step - loss: 0.4549 - accuracy: 0.8773 - val_loss: 1.1056 - val_accuracy: 0.6296\n",
      "Epoch 13/200\n",
      "14/14 [==============================] - 2s 132ms/step - loss: 0.3763 - accuracy: 0.9213 - val_loss: 1.0175 - val_accuracy: 0.6481\n",
      "Epoch 14/200\n",
      "14/14 [==============================] - 2s 131ms/step - loss: 0.3907 - accuracy: 0.9213 - val_loss: 0.9996 - val_accuracy: 0.6481\n",
      "Epoch 15/200\n",
      "14/14 [==============================] - 2s 131ms/step - loss: 0.3945 - accuracy: 0.9051 - val_loss: 1.0347 - val_accuracy: 0.6481\n",
      "Epoch 16/200\n",
      "14/14 [==============================] - 2s 131ms/step - loss: 0.3340 - accuracy: 0.9398 - val_loss: 0.8254 - val_accuracy: 0.7407\n",
      "Epoch 17/200\n",
      "14/14 [==============================] - 2s 130ms/step - loss: 0.2882 - accuracy: 0.9421 - val_loss: 0.9405 - val_accuracy: 0.6481\n",
      "Epoch 18/200\n",
      "14/14 [==============================] - 2s 130ms/step - loss: 0.2532 - accuracy: 0.9514 - val_loss: 0.7668 - val_accuracy: 0.7685\n",
      "Epoch 19/200\n",
      "14/14 [==============================] - 2s 131ms/step - loss: 0.2395 - accuracy: 0.9583 - val_loss: 0.8583 - val_accuracy: 0.7037\n",
      "Epoch 20/200\n",
      "14/14 [==============================] - 2s 131ms/step - loss: 0.2133 - accuracy: 0.9653 - val_loss: 0.7967 - val_accuracy: 0.7500\n",
      "Epoch 21/200\n",
      "14/14 [==============================] - 2s 131ms/step - loss: 0.2300 - accuracy: 0.9491 - val_loss: 0.8405 - val_accuracy: 0.6574\n",
      "Epoch 22/200\n",
      "14/14 [==============================] - 2s 131ms/step - loss: 0.2350 - accuracy: 0.9421 - val_loss: 0.7708 - val_accuracy: 0.7130\n",
      "Epoch 23/200\n",
      "14/14 [==============================] - 2s 132ms/step - loss: 0.2370 - accuracy: 0.9375 - val_loss: 0.7319 - val_accuracy: 0.7963\n",
      "Epoch 24/200\n",
      "14/14 [==============================] - 2s 131ms/step - loss: 0.2012 - accuracy: 0.9606 - val_loss: 0.7320 - val_accuracy: 0.7593\n",
      "Epoch 25/200\n",
      "14/14 [==============================] - 2s 131ms/step - loss: 0.1826 - accuracy: 0.9699 - val_loss: 0.6806 - val_accuracy: 0.8056\n",
      "Epoch 26/200\n",
      "14/14 [==============================] - 2s 131ms/step - loss: 0.2037 - accuracy: 0.9653 - val_loss: 0.7927 - val_accuracy: 0.7037\n",
      "Epoch 27/200\n",
      "14/14 [==============================] - 2s 130ms/step - loss: 0.2209 - accuracy: 0.9583 - val_loss: 0.7690 - val_accuracy: 0.7037\n",
      "Epoch 28/200\n",
      "14/14 [==============================] - 2s 131ms/step - loss: 0.2256 - accuracy: 0.9606 - val_loss: 0.8007 - val_accuracy: 0.7315\n",
      "Epoch 29/200\n",
      "14/14 [==============================] - 2s 131ms/step - loss: 0.2422 - accuracy: 0.9653 - val_loss: 0.8803 - val_accuracy: 0.7037\n",
      "Epoch 30/200\n",
      "14/14 [==============================] - 2s 130ms/step - loss: 0.2498 - accuracy: 0.9514 - val_loss: 0.8355 - val_accuracy: 0.6759\n",
      "Epoch 31/200\n",
      "14/14 [==============================] - 2s 132ms/step - loss: 0.2440 - accuracy: 0.9329 - val_loss: 0.7997 - val_accuracy: 0.7407\n",
      "Epoch 32/200\n",
      "14/14 [==============================] - 2s 130ms/step - loss: 0.1907 - accuracy: 0.9560 - val_loss: 0.7263 - val_accuracy: 0.7500\n",
      "Epoch 33/200\n",
      "14/14 [==============================] - 2s 131ms/step - loss: 0.1733 - accuracy: 0.9676 - val_loss: 0.7143 - val_accuracy: 0.7963\n",
      "Epoch 34/200\n",
      "14/14 [==============================] - 2s 131ms/step - loss: 0.1759 - accuracy: 0.9722 - val_loss: 0.7765 - val_accuracy: 0.7315\n",
      "Epoch 35/200\n",
      "14/14 [==============================] - 2s 130ms/step - loss: 0.2192 - accuracy: 0.9606 - val_loss: 0.7295 - val_accuracy: 0.7130\n",
      "Epoch 36/200\n",
      "14/14 [==============================] - 2s 131ms/step - loss: 0.2983 - accuracy: 0.9144 - val_loss: 0.8006 - val_accuracy: 0.6944\n",
      "Epoch 37/200\n",
      "14/14 [==============================] - 2s 131ms/step - loss: 0.2558 - accuracy: 0.9560 - val_loss: 0.7906 - val_accuracy: 0.7222\n",
      "Epoch 38/200\n",
      "14/14 [==============================] - 2s 130ms/step - loss: 0.2291 - accuracy: 0.9676 - val_loss: 0.7194 - val_accuracy: 0.7593\n",
      "Epoch 39/200\n",
      "14/14 [==============================] - 2s 130ms/step - loss: 0.2739 - accuracy: 0.9583 - val_loss: 0.7064 - val_accuracy: 0.7870\n",
      "Epoch 40/200\n",
      "14/14 [==============================] - 2s 131ms/step - loss: 0.2205 - accuracy: 0.9606 - val_loss: 0.6820 - val_accuracy: 0.7778\n",
      "Epoch 41/200\n",
      "14/14 [==============================] - 2s 131ms/step - loss: 0.2158 - accuracy: 0.9653 - val_loss: 0.7723 - val_accuracy: 0.7407\n",
      "Epoch 42/200\n",
      "14/14 [==============================] - 2s 132ms/step - loss: 0.1941 - accuracy: 0.9745 - val_loss: 0.7397 - val_accuracy: 0.7500\n",
      "Epoch 43/200\n",
      "14/14 [==============================] - 2s 130ms/step - loss: 0.1933 - accuracy: 0.9583 - val_loss: 0.6862 - val_accuracy: 0.7593\n",
      "Epoch 44/200\n",
      "14/14 [==============================] - 2s 131ms/step - loss: 0.1544 - accuracy: 0.9722 - val_loss: 0.7502 - val_accuracy: 0.7593\n",
      "Epoch 45/200\n",
      "14/14 [==============================] - 2s 131ms/step - loss: 0.1283 - accuracy: 0.9769 - val_loss: 0.7245 - val_accuracy: 0.7593\n",
      "Epoch 46/200\n",
      "14/14 [==============================] - 2s 131ms/step - loss: 0.1122 - accuracy: 0.9722 - val_loss: 0.6789 - val_accuracy: 0.7500\n",
      "Epoch 47/200\n",
      "14/14 [==============================] - 2s 132ms/step - loss: 0.0986 - accuracy: 0.9861 - val_loss: 0.5903 - val_accuracy: 0.8148\n",
      "Epoch 48/200\n",
      "14/14 [==============================] - 2s 133ms/step - loss: 0.1212 - accuracy: 0.9792 - val_loss: 0.7893 - val_accuracy: 0.7222\n",
      "Epoch 49/200\n",
      "14/14 [==============================] - 2s 132ms/step - loss: 0.1447 - accuracy: 0.9861 - val_loss: 0.7525 - val_accuracy: 0.7778\n",
      "Epoch 50/200\n",
      "14/14 [==============================] - 2s 133ms/step - loss: 0.1173 - accuracy: 0.9907 - val_loss: 0.6954 - val_accuracy: 0.8148\n",
      "Epoch 51/200\n",
      "14/14 [==============================] - 2s 132ms/step - loss: 0.0954 - accuracy: 0.9954 - val_loss: 0.7321 - val_accuracy: 0.7778\n",
      "Epoch 52/200\n",
      "14/14 [==============================] - 2s 131ms/step - loss: 0.1163 - accuracy: 0.9792 - val_loss: 0.7700 - val_accuracy: 0.7963\n",
      "Epoch 53/200\n",
      "14/14 [==============================] - 2s 133ms/step - loss: 0.1045 - accuracy: 0.9815 - val_loss: 0.6295 - val_accuracy: 0.7778\n",
      "Epoch 54/200\n",
      "14/14 [==============================] - 2s 133ms/step - loss: 0.0832 - accuracy: 0.9861 - val_loss: 0.6038 - val_accuracy: 0.8148\n",
      "Epoch 55/200\n",
      "14/14 [==============================] - 2s 131ms/step - loss: 0.0749 - accuracy: 0.9931 - val_loss: 0.6622 - val_accuracy: 0.7963\n",
      "Epoch 56/200\n",
      "14/14 [==============================] - 2s 134ms/step - loss: 0.0862 - accuracy: 0.9931 - val_loss: 0.6390 - val_accuracy: 0.8056\n",
      "Epoch 57/200\n",
      "14/14 [==============================] - 2s 134ms/step - loss: 0.0854 - accuracy: 0.9838 - val_loss: 0.6362 - val_accuracy: 0.8148\n"
     ]
    },
    {
     "name": "stdout",
     "output_type": "stream",
     "text": [
      "Epoch 58/200\n",
      "14/14 [==============================] - 2s 132ms/step - loss: 0.0959 - accuracy: 0.9815 - val_loss: 0.6241 - val_accuracy: 0.7963\n",
      "Epoch 59/200\n",
      "14/14 [==============================] - 2s 133ms/step - loss: 0.0813 - accuracy: 0.9861 - val_loss: 0.5910 - val_accuracy: 0.8333\n",
      "Epoch 60/200\n",
      "14/14 [==============================] - 2s 132ms/step - loss: 0.0878 - accuracy: 0.9838 - val_loss: 0.6010 - val_accuracy: 0.8148\n",
      "Epoch 61/200\n",
      "14/14 [==============================] - 2s 132ms/step - loss: 0.0724 - accuracy: 0.9931 - val_loss: 0.6110 - val_accuracy: 0.8241\n",
      "Epoch 62/200\n",
      "14/14 [==============================] - 2s 132ms/step - loss: 0.0583 - accuracy: 1.0000 - val_loss: 0.5226 - val_accuracy: 0.8426\n",
      "Epoch 63/200\n",
      "14/14 [==============================] - 2s 132ms/step - loss: 0.0527 - accuracy: 0.9907 - val_loss: 0.5580 - val_accuracy: 0.8148\n",
      "Epoch 64/200\n",
      "14/14 [==============================] - 2s 132ms/step - loss: 0.0540 - accuracy: 0.9954 - val_loss: 0.5459 - val_accuracy: 0.8333\n",
      "Epoch 65/200\n",
      "14/14 [==============================] - 2s 132ms/step - loss: 0.0506 - accuracy: 0.9954 - val_loss: 0.5099 - val_accuracy: 0.8426\n",
      "Epoch 66/200\n",
      "14/14 [==============================] - 2s 132ms/step - loss: 0.0430 - accuracy: 0.9977 - val_loss: 0.5170 - val_accuracy: 0.8519\n",
      "Epoch 67/200\n",
      "14/14 [==============================] - 2s 132ms/step - loss: 0.0433 - accuracy: 0.9954 - val_loss: 0.5333 - val_accuracy: 0.8519\n",
      "Epoch 68/200\n",
      "14/14 [==============================] - 2s 132ms/step - loss: 0.0629 - accuracy: 0.9931 - val_loss: 0.5551 - val_accuracy: 0.8426\n",
      "Epoch 69/200\n",
      "14/14 [==============================] - 2s 132ms/step - loss: 0.0683 - accuracy: 0.9931 - val_loss: 0.5805 - val_accuracy: 0.8333\n",
      "Epoch 70/200\n",
      "14/14 [==============================] - 2s 132ms/step - loss: 0.0654 - accuracy: 0.9907 - val_loss: 0.5580 - val_accuracy: 0.8426\n",
      "Epoch 71/200\n",
      "14/14 [==============================] - 2s 132ms/step - loss: 0.0531 - accuracy: 0.9931 - val_loss: 0.5173 - val_accuracy: 0.8426\n",
      "Epoch 72/200\n",
      "14/14 [==============================] - 2s 131ms/step - loss: 0.0447 - accuracy: 0.9931 - val_loss: 0.5070 - val_accuracy: 0.8426\n",
      "Epoch 73/200\n",
      "14/14 [==============================] - 2s 133ms/step - loss: 0.0426 - accuracy: 0.9954 - val_loss: 0.5146 - val_accuracy: 0.8333\n",
      "Epoch 74/200\n",
      "14/14 [==============================] - 2s 132ms/step - loss: 0.0389 - accuracy: 0.9954 - val_loss: 0.4680 - val_accuracy: 0.8704\n",
      "Epoch 75/200\n",
      "14/14 [==============================] - 2s 133ms/step - loss: 0.0374 - accuracy: 0.9954 - val_loss: 0.4955 - val_accuracy: 0.8704\n",
      "Epoch 76/200\n",
      "14/14 [==============================] - 2s 132ms/step - loss: 0.0341 - accuracy: 0.9977 - val_loss: 0.4841 - val_accuracy: 0.8611\n",
      "Epoch 77/200\n",
      "14/14 [==============================] - 2s 132ms/step - loss: 0.0329 - accuracy: 0.9954 - val_loss: 0.4772 - val_accuracy: 0.8519\n",
      "Epoch 78/200\n",
      "14/14 [==============================] - 2s 132ms/step - loss: 0.0311 - accuracy: 0.9977 - val_loss: 0.4933 - val_accuracy: 0.8611\n",
      "Epoch 79/200\n",
      "14/14 [==============================] - 2s 133ms/step - loss: 0.0302 - accuracy: 0.9954 - val_loss: 0.5367 - val_accuracy: 0.8519\n",
      "Epoch 80/200\n",
      "14/14 [==============================] - 2s 134ms/step - loss: 0.0369 - accuracy: 0.9954 - val_loss: 0.5366 - val_accuracy: 0.8611\n",
      "Epoch 81/200\n",
      "14/14 [==============================] - 2s 132ms/step - loss: 0.0348 - accuracy: 0.9954 - val_loss: 0.5201 - val_accuracy: 0.8611\n",
      "Epoch 82/200\n",
      "14/14 [==============================] - 2s 132ms/step - loss: 0.0301 - accuracy: 0.9954 - val_loss: 0.5389 - val_accuracy: 0.8426\n",
      "Epoch 83/200\n",
      "14/14 [==============================] - 2s 133ms/step - loss: 0.0261 - accuracy: 0.9954 - val_loss: 0.5391 - val_accuracy: 0.8333\n",
      "Epoch 84/200\n",
      "14/14 [==============================] - 2s 132ms/step - loss: 0.0253 - accuracy: 0.9954 - val_loss: 0.5338 - val_accuracy: 0.8519\n",
      "Epoch 85/200\n",
      "14/14 [==============================] - 2s 131ms/step - loss: 0.0246 - accuracy: 0.9954 - val_loss: 0.5387 - val_accuracy: 0.8519\n",
      "Epoch 86/200\n",
      "14/14 [==============================] - 2s 132ms/step - loss: 0.0236 - accuracy: 0.9954 - val_loss: 0.5287 - val_accuracy: 0.8519\n",
      "Epoch 87/200\n",
      "14/14 [==============================] - 2s 133ms/step - loss: 0.0226 - accuracy: 0.9954 - val_loss: 0.5237 - val_accuracy: 0.8426\n",
      "Epoch 88/200\n",
      "14/14 [==============================] - 2s 132ms/step - loss: 0.0221 - accuracy: 0.9954 - val_loss: 0.5163 - val_accuracy: 0.8426\n",
      "Epoch 89/200\n",
      "14/14 [==============================] - 2s 132ms/step - loss: 0.0212 - accuracy: 0.9954 - val_loss: 0.5146 - val_accuracy: 0.8519\n",
      "Epoch 90/200\n",
      "14/14 [==============================] - 2s 132ms/step - loss: 0.0209 - accuracy: 0.9954 - val_loss: 0.5119 - val_accuracy: 0.8519\n",
      "Epoch 91/200\n",
      "14/14 [==============================] - 2s 132ms/step - loss: 0.0205 - accuracy: 0.9954 - val_loss: 0.5157 - val_accuracy: 0.8519\n",
      "Epoch 92/200\n",
      "14/14 [==============================] - 2s 132ms/step - loss: 0.0202 - accuracy: 0.9954 - val_loss: 0.5167 - val_accuracy: 0.8519\n",
      "Epoch 93/200\n",
      "14/14 [==============================] - 2s 132ms/step - loss: 0.0198 - accuracy: 0.9954 - val_loss: 0.5189 - val_accuracy: 0.8519\n",
      "Epoch 94/200\n",
      "14/14 [==============================] - 2s 134ms/step - loss: 0.0196 - accuracy: 0.9954 - val_loss: 0.5204 - val_accuracy: 0.8426\n",
      "Epoch 95/200\n",
      "14/14 [==============================] - 2s 133ms/step - loss: 0.0169 - accuracy: 0.9977 - val_loss: 0.5115 - val_accuracy: 0.8611\n",
      "Epoch 96/200\n",
      "14/14 [==============================] - 2s 132ms/step - loss: 0.0167 - accuracy: 0.9977 - val_loss: 0.5143 - val_accuracy: 0.8611\n",
      "Epoch 97/200\n",
      "14/14 [==============================] - 2s 133ms/step - loss: 0.0165 - accuracy: 0.9977 - val_loss: 0.5115 - val_accuracy: 0.8611\n",
      "Epoch 98/200\n",
      "14/14 [==============================] - 2s 132ms/step - loss: 0.0162 - accuracy: 0.9977 - val_loss: 0.5158 - val_accuracy: 0.8519\n",
      "Epoch 99/200\n",
      "14/14 [==============================] - 2s 132ms/step - loss: 0.0160 - accuracy: 0.9977 - val_loss: 0.5094 - val_accuracy: 0.8611\n",
      "Epoch 100/200\n",
      "14/14 [==============================] - 2s 132ms/step - loss: 0.0157 - accuracy: 1.0000 - val_loss: 0.5134 - val_accuracy: 0.8611\n",
      "Epoch 101/200\n",
      "14/14 [==============================] - 2s 133ms/step - loss: 0.0153 - accuracy: 1.0000 - val_loss: 0.5113 - val_accuracy: 0.8704\n",
      "Epoch 102/200\n",
      "14/14 [==============================] - 2s 133ms/step - loss: 0.0135 - accuracy: 1.0000 - val_loss: 0.5121 - val_accuracy: 0.8704\n",
      "Epoch 103/200\n",
      "14/14 [==============================] - 2s 132ms/step - loss: 0.0132 - accuracy: 1.0000 - val_loss: 0.5135 - val_accuracy: 0.8704\n",
      "Epoch 104/200\n",
      "14/14 [==============================] - 2s 133ms/step - loss: 0.0134 - accuracy: 1.0000 - val_loss: 0.5187 - val_accuracy: 0.8611\n",
      "Epoch 105/200\n",
      "14/14 [==============================] - 2s 132ms/step - loss: 0.0141 - accuracy: 1.0000 - val_loss: 0.5133 - val_accuracy: 0.8704\n",
      "Epoch 106/200\n",
      "14/14 [==============================] - 2s 133ms/step - loss: 0.0137 - accuracy: 1.0000 - val_loss: 0.5074 - val_accuracy: 0.8704\n",
      "Epoch 107/200\n",
      "14/14 [==============================] - 2s 133ms/step - loss: 0.0128 - accuracy: 1.0000 - val_loss: 0.5092 - val_accuracy: 0.8704\n",
      "Epoch 108/200\n",
      "14/14 [==============================] - 2s 132ms/step - loss: 0.0128 - accuracy: 1.0000 - val_loss: 0.5127 - val_accuracy: 0.8704\n",
      "Epoch 109/200\n",
      "14/14 [==============================] - 2s 133ms/step - loss: 0.0110 - accuracy: 1.0000 - val_loss: 0.5190 - val_accuracy: 0.8704\n",
      "Epoch 110/200\n",
      "14/14 [==============================] - 2s 133ms/step - loss: 0.0109 - accuracy: 1.0000 - val_loss: 0.5210 - val_accuracy: 0.8611\n",
      "Epoch 111/200\n",
      "14/14 [==============================] - 2s 133ms/step - loss: 0.0107 - accuracy: 1.0000 - val_loss: 0.5188 - val_accuracy: 0.8611\n",
      "Epoch 112/200\n",
      "14/14 [==============================] - 2s 131ms/step - loss: 0.0104 - accuracy: 1.0000 - val_loss: 0.5116 - val_accuracy: 0.8704\n",
      "Epoch 113/200\n",
      "14/14 [==============================] - 2s 132ms/step - loss: 0.0102 - accuracy: 1.0000 - val_loss: 0.5113 - val_accuracy: 0.8704\n",
      "Epoch 114/200\n",
      "14/14 [==============================] - 2s 132ms/step - loss: 0.0100 - accuracy: 1.0000 - val_loss: 0.5105 - val_accuracy: 0.8704\n"
     ]
    },
    {
     "name": "stdout",
     "output_type": "stream",
     "text": [
      "Epoch 115/200\n",
      "14/14 [==============================] - 2s 131ms/step - loss: 0.0098 - accuracy: 1.0000 - val_loss: 0.5070 - val_accuracy: 0.8796\n",
      "Epoch 116/200\n",
      "14/14 [==============================] - 2s 131ms/step - loss: 0.0096 - accuracy: 1.0000 - val_loss: 0.5077 - val_accuracy: 0.8796\n",
      "Epoch 117/200\n",
      "14/14 [==============================] - 2s 131ms/step - loss: 0.0095 - accuracy: 1.0000 - val_loss: 0.5084 - val_accuracy: 0.8796\n",
      "Epoch 118/200\n",
      "14/14 [==============================] - 2s 132ms/step - loss: 0.0093 - accuracy: 1.0000 - val_loss: 0.5028 - val_accuracy: 0.8796\n",
      "Epoch 119/200\n",
      "14/14 [==============================] - 2s 132ms/step - loss: 0.0095 - accuracy: 1.0000 - val_loss: 0.4998 - val_accuracy: 0.8796\n",
      "Epoch 120/200\n",
      "14/14 [==============================] - 2s 133ms/step - loss: 0.0093 - accuracy: 1.0000 - val_loss: 0.5080 - val_accuracy: 0.8796\n",
      "Epoch 121/200\n",
      "14/14 [==============================] - 2s 132ms/step - loss: 0.0089 - accuracy: 1.0000 - val_loss: 0.5041 - val_accuracy: 0.8796\n",
      "Epoch 122/200\n",
      "14/14 [==============================] - 2s 133ms/step - loss: 0.0100 - accuracy: 1.0000 - val_loss: 0.5051 - val_accuracy: 0.8704\n",
      "Epoch 123/200\n",
      "14/14 [==============================] - 2s 132ms/step - loss: 0.0098 - accuracy: 1.0000 - val_loss: 0.5091 - val_accuracy: 0.8704\n",
      "Epoch 124/200\n",
      "14/14 [==============================] - 2s 132ms/step - loss: 0.0095 - accuracy: 1.0000 - val_loss: 0.5048 - val_accuracy: 0.8796\n",
      "Epoch 125/200\n",
      "14/14 [==============================] - 2s 131ms/step - loss: 0.0088 - accuracy: 1.0000 - val_loss: 0.5082 - val_accuracy: 0.8796\n",
      "Epoch 126/200\n",
      "14/14 [==============================] - 2s 133ms/step - loss: 0.0085 - accuracy: 1.0000 - val_loss: 0.5077 - val_accuracy: 0.8796\n",
      "Epoch 127/200\n",
      "14/14 [==============================] - 2s 132ms/step - loss: 0.0086 - accuracy: 1.0000 - val_loss: 0.5050 - val_accuracy: 0.8796\n",
      "Epoch 128/200\n",
      "14/14 [==============================] - 2s 132ms/step - loss: 0.0087 - accuracy: 1.0000 - val_loss: 0.5028 - val_accuracy: 0.8796\n",
      "Epoch 129/200\n",
      "14/14 [==============================] - 2s 132ms/step - loss: 0.0084 - accuracy: 1.0000 - val_loss: 0.5045 - val_accuracy: 0.8796\n",
      "Epoch 130/200\n",
      "14/14 [==============================] - 2s 132ms/step - loss: 0.0081 - accuracy: 1.0000 - val_loss: 0.5083 - val_accuracy: 0.8796\n",
      "Epoch 131/200\n",
      "14/14 [==============================] - 2s 134ms/step - loss: 0.0079 - accuracy: 1.0000 - val_loss: 0.5092 - val_accuracy: 0.8796\n",
      "Epoch 132/200\n",
      "14/14 [==============================] - 2s 132ms/step - loss: 0.0076 - accuracy: 1.0000 - val_loss: 0.5252 - val_accuracy: 0.8796\n",
      "Epoch 133/200\n",
      "14/14 [==============================] - 2s 133ms/step - loss: 0.0074 - accuracy: 1.0000 - val_loss: 0.5309 - val_accuracy: 0.8796\n",
      "Epoch 134/200\n",
      "14/14 [==============================] - 2s 133ms/step - loss: 0.0072 - accuracy: 1.0000 - val_loss: 0.5353 - val_accuracy: 0.8796\n",
      "Epoch 135/200\n",
      "14/14 [==============================] - 2s 133ms/step - loss: 0.0071 - accuracy: 1.0000 - val_loss: 0.5284 - val_accuracy: 0.8796\n",
      "Epoch 136/200\n",
      "14/14 [==============================] - 2s 132ms/step - loss: 0.0069 - accuracy: 1.0000 - val_loss: 0.5287 - val_accuracy: 0.8796\n",
      "Epoch 137/200\n",
      "14/14 [==============================] - 2s 134ms/step - loss: 0.0067 - accuracy: 1.0000 - val_loss: 0.5306 - val_accuracy: 0.8704\n",
      "Epoch 138/200\n",
      "14/14 [==============================] - 2s 132ms/step - loss: 0.0066 - accuracy: 1.0000 - val_loss: 0.5290 - val_accuracy: 0.8704\n",
      "Epoch 139/200\n",
      "14/14 [==============================] - 2s 132ms/step - loss: 0.0065 - accuracy: 1.0000 - val_loss: 0.5205 - val_accuracy: 0.8796\n",
      "Epoch 140/200\n",
      "14/14 [==============================] - 2s 132ms/step - loss: 0.0064 - accuracy: 1.0000 - val_loss: 0.5187 - val_accuracy: 0.8796\n",
      "Epoch 141/200\n",
      "14/14 [==============================] - 2s 132ms/step - loss: 0.0063 - accuracy: 1.0000 - val_loss: 0.5246 - val_accuracy: 0.8704\n",
      "Epoch 142/200\n",
      "14/14 [==============================] - 2s 133ms/step - loss: 0.0062 - accuracy: 1.0000 - val_loss: 0.5198 - val_accuracy: 0.8796\n",
      "Epoch 143/200\n",
      "14/14 [==============================] - 2s 132ms/step - loss: 0.0061 - accuracy: 1.0000 - val_loss: 0.5169 - val_accuracy: 0.8796\n",
      "Epoch 144/200\n",
      "14/14 [==============================] - 2s 132ms/step - loss: 0.0060 - accuracy: 1.0000 - val_loss: 0.5150 - val_accuracy: 0.8704\n",
      "Epoch 145/200\n",
      "14/14 [==============================] - 2s 132ms/step - loss: 0.0059 - accuracy: 1.0000 - val_loss: 0.5243 - val_accuracy: 0.8704\n",
      "Epoch 146/200\n",
      "14/14 [==============================] - 2s 132ms/step - loss: 0.0058 - accuracy: 1.0000 - val_loss: 0.5253 - val_accuracy: 0.8704\n",
      "Epoch 147/200\n",
      "14/14 [==============================] - 2s 133ms/step - loss: 0.0057 - accuracy: 1.0000 - val_loss: 0.5261 - val_accuracy: 0.8796\n",
      "Epoch 148/200\n",
      "14/14 [==============================] - 2s 133ms/step - loss: 0.0057 - accuracy: 1.0000 - val_loss: 0.5259 - val_accuracy: 0.8796\n",
      "Epoch 149/200\n",
      "14/14 [==============================] - 2s 132ms/step - loss: 0.0056 - accuracy: 1.0000 - val_loss: 0.5273 - val_accuracy: 0.8796\n",
      "Epoch 150/200\n",
      "14/14 [==============================] - 2s 133ms/step - loss: 0.0055 - accuracy: 1.0000 - val_loss: 0.5280 - val_accuracy: 0.8796\n",
      "Epoch 151/200\n",
      "14/14 [==============================] - 2s 132ms/step - loss: 0.0055 - accuracy: 1.0000 - val_loss: 0.5274 - val_accuracy: 0.8796\n",
      "Epoch 152/200\n",
      "14/14 [==============================] - 2s 132ms/step - loss: 0.0054 - accuracy: 1.0000 - val_loss: 0.5278 - val_accuracy: 0.8796\n",
      "Epoch 153/200\n",
      "14/14 [==============================] - 2s 131ms/step - loss: 0.0054 - accuracy: 1.0000 - val_loss: 0.5276 - val_accuracy: 0.8796\n",
      "Epoch 154/200\n",
      "14/14 [==============================] - 2s 132ms/step - loss: 0.0053 - accuracy: 1.0000 - val_loss: 0.5290 - val_accuracy: 0.8796\n",
      "Epoch 155/200\n",
      "14/14 [==============================] - 2s 131ms/step - loss: 0.0053 - accuracy: 1.0000 - val_loss: 0.5291 - val_accuracy: 0.8796\n",
      "Epoch 156/200\n",
      "14/14 [==============================] - 2s 133ms/step - loss: 0.0052 - accuracy: 1.0000 - val_loss: 0.5293 - val_accuracy: 0.8796\n",
      "Epoch 157/200\n",
      "14/14 [==============================] - 2s 132ms/step - loss: 0.0051 - accuracy: 1.0000 - val_loss: 0.5304 - val_accuracy: 0.8796\n",
      "Epoch 158/200\n",
      "14/14 [==============================] - 2s 132ms/step - loss: 0.0050 - accuracy: 1.0000 - val_loss: 0.5312 - val_accuracy: 0.8796\n",
      "Epoch 159/200\n",
      "14/14 [==============================] - 2s 131ms/step - loss: 0.0050 - accuracy: 1.0000 - val_loss: 0.5308 - val_accuracy: 0.8796\n",
      "Epoch 160/200\n",
      "14/14 [==============================] - 2s 133ms/step - loss: 0.0049 - accuracy: 1.0000 - val_loss: 0.5301 - val_accuracy: 0.8796\n",
      "Epoch 161/200\n",
      "14/14 [==============================] - 2s 133ms/step - loss: 0.0049 - accuracy: 1.0000 - val_loss: 0.5313 - val_accuracy: 0.8796\n",
      "Epoch 162/200\n",
      "14/14 [==============================] - 2s 133ms/step - loss: 0.0048 - accuracy: 1.0000 - val_loss: 0.5320 - val_accuracy: 0.8796\n",
      "Epoch 163/200\n",
      "14/14 [==============================] - 2s 132ms/step - loss: 0.0048 - accuracy: 1.0000 - val_loss: 0.5342 - val_accuracy: 0.8796\n",
      "Epoch 164/200\n",
      "14/14 [==============================] - 2s 134ms/step - loss: 0.0047 - accuracy: 1.0000 - val_loss: 0.5343 - val_accuracy: 0.8796\n",
      "Epoch 165/200\n",
      "14/14 [==============================] - 2s 134ms/step - loss: 0.0047 - accuracy: 1.0000 - val_loss: 0.5343 - val_accuracy: 0.8796\n",
      "Epoch 166/200\n",
      "14/14 [==============================] - 2s 132ms/step - loss: 0.0046 - accuracy: 1.0000 - val_loss: 0.5342 - val_accuracy: 0.8796\n",
      "Epoch 167/200\n",
      "14/14 [==============================] - 2s 132ms/step - loss: 0.0046 - accuracy: 1.0000 - val_loss: 0.5341 - val_accuracy: 0.8796\n",
      "Epoch 168/200\n",
      "14/14 [==============================] - 2s 133ms/step - loss: 0.0045 - accuracy: 1.0000 - val_loss: 0.5340 - val_accuracy: 0.8796\n",
      "Epoch 169/200\n",
      "14/14 [==============================] - 2s 133ms/step - loss: 0.0045 - accuracy: 1.0000 - val_loss: 0.5342 - val_accuracy: 0.8796\n",
      "Epoch 170/200\n",
      "14/14 [==============================] - 2s 133ms/step - loss: 0.0044 - accuracy: 1.0000 - val_loss: 0.5349 - val_accuracy: 0.8796\n",
      "Epoch 171/200\n",
      "14/14 [==============================] - 2s 133ms/step - loss: 0.0044 - accuracy: 1.0000 - val_loss: 0.5351 - val_accuracy: 0.8796\n",
      "Epoch 172/200\n",
      "14/14 [==============================] - 2s 132ms/step - loss: 0.0044 - accuracy: 1.0000 - val_loss: 0.5358 - val_accuracy: 0.8796\n",
      "Epoch 173/200\n",
      "14/14 [==============================] - 2s 131ms/step - loss: 0.0043 - accuracy: 1.0000 - val_loss: 0.5367 - val_accuracy: 0.8796\n",
      "Epoch 174/200\n",
      "14/14 [==============================] - 2s 132ms/step - loss: 0.0043 - accuracy: 1.0000 - val_loss: 0.5370 - val_accuracy: 0.8796\n",
      "Epoch 175/200\n",
      "14/14 [==============================] - 2s 132ms/step - loss: 0.0042 - accuracy: 1.0000 - val_loss: 0.5375 - val_accuracy: 0.8796\n",
      "Epoch 176/200\n",
      "14/14 [==============================] - 2s 132ms/step - loss: 0.0042 - accuracy: 1.0000 - val_loss: 0.5381 - val_accuracy: 0.8796\n",
      "Epoch 177/200\n",
      "14/14 [==============================] - 2s 133ms/step - loss: 0.0041 - accuracy: 1.0000 - val_loss: 0.5380 - val_accuracy: 0.8796\n",
      "Epoch 178/200\n",
      "14/14 [==============================] - 2s 132ms/step - loss: 0.0041 - accuracy: 1.0000 - val_loss: 0.5362 - val_accuracy: 0.8796\n",
      "Epoch 179/200\n",
      "14/14 [==============================] - 2s 133ms/step - loss: 0.0040 - accuracy: 1.0000 - val_loss: 0.5364 - val_accuracy: 0.8796\n",
      "Epoch 180/200\n",
      "14/14 [==============================] - 2s 132ms/step - loss: 0.0040 - accuracy: 1.0000 - val_loss: 0.5366 - val_accuracy: 0.8796\n",
      "Epoch 181/200\n",
      "14/14 [==============================] - 2s 133ms/step - loss: 0.0039 - accuracy: 1.0000 - val_loss: 0.5377 - val_accuracy: 0.8796\n",
      "Epoch 182/200\n",
      "14/14 [==============================] - 2s 132ms/step - loss: 0.0039 - accuracy: 1.0000 - val_loss: 0.5388 - val_accuracy: 0.8796\n",
      "Epoch 183/200\n",
      "14/14 [==============================] - 2s 133ms/step - loss: 0.0038 - accuracy: 1.0000 - val_loss: 0.5427 - val_accuracy: 0.8796\n",
      "Epoch 184/200\n",
      "14/14 [==============================] - 2s 132ms/step - loss: 0.0038 - accuracy: 1.0000 - val_loss: 0.5468 - val_accuracy: 0.8796\n",
      "Epoch 185/200\n",
      "14/14 [==============================] - 2s 132ms/step - loss: 0.0040 - accuracy: 1.0000 - val_loss: 0.5469 - val_accuracy: 0.8796\n",
      "Epoch 186/200\n",
      "14/14 [==============================] - 2s 133ms/step - loss: 0.0037 - accuracy: 1.0000 - val_loss: 0.5432 - val_accuracy: 0.8796\n",
      "Epoch 187/200\n",
      "14/14 [==============================] - 2s 132ms/step - loss: 0.0037 - accuracy: 1.0000 - val_loss: 0.5456 - val_accuracy: 0.8704\n",
      "Epoch 188/200\n",
      "14/14 [==============================] - 2s 133ms/step - loss: 0.0037 - accuracy: 1.0000 - val_loss: 0.5545 - val_accuracy: 0.8704\n",
      "Epoch 189/200\n",
      "14/14 [==============================] - 2s 133ms/step - loss: 0.0036 - accuracy: 1.0000 - val_loss: 0.5534 - val_accuracy: 0.8704\n",
      "Epoch 190/200\n",
      "14/14 [==============================] - 2s 133ms/step - loss: 0.0036 - accuracy: 1.0000 - val_loss: 0.5506 - val_accuracy: 0.8704\n",
      "Epoch 191/200\n",
      "14/14 [==============================] - 2s 132ms/step - loss: 0.0036 - accuracy: 1.0000 - val_loss: 0.5505 - val_accuracy: 0.8704\n",
      "Epoch 192/200\n",
      "14/14 [==============================] - 2s 133ms/step - loss: 0.0041 - accuracy: 1.0000 - val_loss: 0.5209 - val_accuracy: 0.8611\n",
      "Epoch 193/200\n",
      "14/14 [==============================] - 2s 132ms/step - loss: 0.0054 - accuracy: 1.0000 - val_loss: 0.5164 - val_accuracy: 0.8611\n",
      "Epoch 194/200\n",
      "14/14 [==============================] - 2s 132ms/step - loss: 0.0056 - accuracy: 1.0000 - val_loss: 0.5140 - val_accuracy: 0.8611\n",
      "Epoch 195/200\n",
      "14/14 [==============================] - 2s 133ms/step - loss: 0.0054 - accuracy: 1.0000 - val_loss: 0.5162 - val_accuracy: 0.8704\n",
      "Epoch 196/200\n",
      "14/14 [==============================] - 2s 132ms/step - loss: 0.0053 - accuracy: 1.0000 - val_loss: 0.5138 - val_accuracy: 0.8704\n",
      "Epoch 197/200\n",
      "14/14 [==============================] - 2s 133ms/step - loss: 0.0051 - accuracy: 1.0000 - val_loss: 0.5182 - val_accuracy: 0.8611\n",
      "Epoch 198/200\n",
      "14/14 [==============================] - 2s 132ms/step - loss: 0.0050 - accuracy: 1.0000 - val_loss: 0.5159 - val_accuracy: 0.8704\n",
      "Epoch 199/200\n",
      "14/14 [==============================] - 2s 132ms/step - loss: 0.0053 - accuracy: 1.0000 - val_loss: 0.5168 - val_accuracy: 0.8704\n",
      "Epoch 200/200\n",
      "14/14 [==============================] - 2s 128ms/step - loss: 0.0054 - accuracy: 1.0000 - val_loss: 0.5176 - val_accuracy: 0.8611\n"
     ]
    },
    {
     "data": {
      "text/plain": [
       "<keras.callbacks.History at 0x7fc408491010>"
      ]
     },
     "execution_count": 16,
     "metadata": {},
     "output_type": "execute_result"
    }
   ],
   "source": [
    "classifier.fit(np.array([x/255 for x in x_train]), np.array(y_train), epochs=200, verbose=1, validation_split=0.2)"
   ]
  },
  {
   "cell_type": "code",
   "execution_count": 38,
   "id": "9cb54bc0",
   "metadata": {},
   "outputs": [
    {
     "data": {
      "image/png": "[encoded data removed]",
      "text/plain": [
       "<Figure size 640x480 with 1 Axes>"
      ]
     },
     "metadata": {},
     "output_type": "display_data"
    }
   ],
   "source": [
    "from matplotlib import pyplot as plt\n",
    "history = classifier.history\n",
    "plt.plot(history.history['accuracy'])\n",
    "plt.plot(history.history['val_accuracy'])\n",
    "plt.title('Reference Model accuracy')\n",
    "plt.ylabel('accuracy')\n",
    "plt.xlabel('epoch')\n",
    "plt.legend(['train', 'val'], loc='lower right')\n",
    "plt.savefig('reference_model_200ep_acc.png')\n",
    "plt.show()"
   ]
  },
  {
   "cell_type": "code",
   "execution_count": 42,
   "id": "0ec83116",
   "metadata": {},
   "outputs": [
    {
     "data": {
      "image/png": "[encoded data removed]",
      "text/plain": [
       "<Figure size 640x480 with 1 Axes>"
      ]
     },
     "metadata": {},
     "output_type": "display_data"
    }
   ],
   "source": [
    "from matplotlib import pyplot as plt\n",
    "history = classifier.history\n",
    "plt.plot(history.history['loss'])\n",
    "plt.plot(history.history['val_loss'])\n",
    "plt.title('Reference Model loss')\n",
    "plt.ylabel('loss')\n",
    "plt.xlabel('epoch')\n",
    "plt.legend(['train', 'val'], loc='lower right')\n",
    "plt.savefig('reference_model_200ep_loss.png')\n",
    "plt.show()"
   ]
  },
  {
   "cell_type": "code",
   "execution_count": 36,
   "id": "470885fd",
   "metadata": {},
   "outputs": [
    {
     "data": {
      "text/plain": [
       "dict_keys(['loss', 'accuracy', 'val_loss', 'val_accuracy'])"
      ]
     },
     "execution_count": 36,
     "metadata": {},
     "output_type": "execute_result"
    }
   ],
   "source": [
    "classifier.history.history.keys()"
   ]
  },
  {
   "cell_type": "code",
   "execution_count": 49,
   "id": "ee9eb391",
   "metadata": {},
   "outputs": [
    {
     "name": "stdout",
     "output_type": "stream",
     "text": [
      "2/2 [==============================] - 0s 274ms/step - loss: 0.2862 - accuracy: 0.9167\n"
     ]
    },
    {
     "data": {
      "text/plain": [
       "[0.2862113416194916, 0.9166666865348816]"
      ]
     },
     "execution_count": 49,
     "metadata": {},
     "output_type": "execute_result"
    }
   ],
   "source": [
    "classifier.evaluate(np.array([x/255 for x in x_test]), np.array(y_test))"
   ]
  },
  {
   "cell_type": "code",
   "execution_count": 44,
   "id": "bd9fce1b",
   "metadata": {},
   "outputs": [],
   "source": [
    "classifier.evaluate?"
   ]
  },
  {
   "cell_type": "code",
   "execution_count": 45,
   "id": "656fc557",
   "metadata": {},
   "outputs": [
    {
     "data": {
      "text/plain": [
       "['loss', 'accuracy']"
      ]
     },
     "execution_count": 45,
     "metadata": {},
     "output_type": "execute_result"
    }
   ],
   "source": [
    "classifier.metrics_names"
   ]
  },
  {
   "cell_type": "code",
   "execution_count": 43,
   "id": "0e20145c",
   "metadata": {},
   "outputs": [],
   "source": [
    "classifier.save('reference_model_100ep.h5')"
   ]
  },
  {
   "cell_type": "code",
   "execution_count": 48,
   "id": "411c20ef",
   "metadata": {},
   "outputs": [],
   "source": [
    "from tensorflow.keras.models import load_model\n",
    "model1 = load_model('reference_model_100ep.h5')"
   ]
  },
  {
   "cell_type": "code",
   "execution_count": 17,
   "id": "ae6dcad2",
   "metadata": {},
   "outputs": [
    {
     "data": {
      "text/html": [
       "<style>#sk-container-id-1 {color: black;background-color: white;}#sk-container-id-1 pre{padding: 0;}#sk-container-id-1 div.sk-toggleable {background-color: white;}#sk-container-id-1 label.sk-toggleable__label {cursor: pointer;display: block;width: 100%;margin-bottom: 0;padding: 0.3em;box-sizing: border-box;text-align: center;}#sk-container-id-1 label.sk-toggleable__label-arrow:before {content: \"▸\";float: left;margin-right: 0.25em;color: #696969;}#sk-container-id-1 label.sk-toggleable__label-arrow:hover:before {color: black;}#sk-container-id-1 div.sk-estimator:hover label.sk-toggleable__label-arrow:before {color: black;}#sk-container-id-1 div.sk-toggleable__content {max-height: 0;max-width: 0;overflow: hidden;text-align: left;background-color: #f0f8ff;}#sk-container-id-1 div.sk-toggleable__content pre {margin: 0.2em;color: black;border-radius: 0.25em;background-color: #f0f8ff;}#sk-container-id-1 input.sk-toggleable__control:checked~div.sk-toggleable__content {max-height: 200px;max-width: 100%;overflow: auto;}#sk-container-id-1 input.sk-toggleable__control:checked~label.sk-toggleable__label-arrow:before {content: \"▾\";}#sk-container-id-1 div.sk-estimator input.sk-toggleable__control:checked~label.sk-toggleable__label {background-color: #d4ebff;}#sk-container-id-1 div.sk-label input.sk-toggleable__control:checked~label.sk-toggleable__label {background-color: #d4ebff;}#sk-container-id-1 input.sk-hidden--visually {border: 0;clip: rect(1px 1px 1px 1px);clip: rect(1px, 1px, 1px, 1px);height: 1px;margin: -1px;overflow: hidden;padding: 0;position: absolute;width: 1px;}#sk-container-id-1 div.sk-estimator {font-family: monospace;background-color: #f0f8ff;border: 1px dotted black;border-radius: 0.25em;box-sizing: border-box;margin-bottom: 0.5em;}#sk-container-id-1 div.sk-estimator:hover {background-color: #d4ebff;}#sk-container-id-1 div.sk-parallel-item::after {content: \"\";width: 100%;border-bottom: 1px solid gray;flex-grow: 1;}#sk-container-id-1 div.sk-label:hover label.sk-toggleable__label {background-color: #d4ebff;}#sk-container-id-1 div.sk-serial::before {content: \"\";position: absolute;border-left: 1px solid gray;box-sizing: border-box;top: 0;bottom: 0;left: 50%;z-index: 0;}#sk-container-id-1 div.sk-serial {display: flex;flex-direction: column;align-items: center;background-color: white;padding-right: 0.2em;padding-left: 0.2em;position: relative;}#sk-container-id-1 div.sk-item {position: relative;z-index: 1;}#sk-container-id-1 div.sk-parallel {display: flex;align-items: stretch;justify-content: center;background-color: white;position: relative;}#sk-container-id-1 div.sk-item::before, #sk-container-id-1 div.sk-parallel-item::before {content: \"\";position: absolute;border-left: 1px solid gray;box-sizing: border-box;top: 0;bottom: 0;left: 50%;z-index: -1;}#sk-container-id-1 div.sk-parallel-item {display: flex;flex-direction: column;z-index: 1;position: relative;background-color: white;}#sk-container-id-1 div.sk-parallel-item:first-child::after {align-self: flex-end;width: 50%;}#sk-container-id-1 div.sk-parallel-item:last-child::after {align-self: flex-start;width: 50%;}#sk-container-id-1 div.sk-parallel-item:only-child::after {width: 0;}#sk-container-id-1 div.sk-dashed-wrapped {border: 1px dashed gray;margin: 0 0.4em 0.5em 0.4em;box-sizing: border-box;padding-bottom: 0.4em;background-color: white;}#sk-container-id-1 div.sk-label label {font-family: monospace;font-weight: bold;display: inline-block;line-height: 1.2em;}#sk-container-id-1 div.sk-label-container {text-align: center;}#sk-container-id-1 div.sk-container {/* jupyter's `normalize.less` sets `[hidden] { display: none; }` but bootstrap.min.css set `[hidden] { display: none !important; }` so we also need the `!important` here to be able to override the default hidden behavior on the sphinx rendered scikit-learn.org. See: https://github.com/scikit-learn/scikit-learn/issues/21755 */display: inline-block !important;position: relative;}#sk-container-id-1 div.sk-text-repr-fallback {display: none;}</style><div id=\"sk-container-id-1\" class=\"sk-top-container\"><div class=\"sk-text-repr-fallback\"><pre>SVC(gamma=&#x27;auto&#x27;)</pre><b>In a Jupyter environment, please rerun this cell to show the HTML representation or trust the notebook. <br />On GitHub, the HTML representation is unable to render, please try loading this page with nbviewer.org.</b></div><div class=\"sk-container\" hidden><div class=\"sk-item\"><div class=\"sk-estimator sk-toggleable\"><input class=\"sk-toggleable__control sk-hidden--visually\" id=\"sk-estimator-id-1\" type=\"checkbox\" checked><label for=\"sk-estimator-id-1\" class=\"sk-toggleable__label sk-toggleable__label-arrow\">SVC</label><div class=\"sk-toggleable__content\"><pre>SVC(gamma=&#x27;auto&#x27;)</pre></div></div></div></div></div>"
      ],
      "text/plain": [
       "SVC(gamma='auto')"
      ]
     },
     "execution_count": 17,
     "metadata": {},
     "output_type": "execute_result"
    }
   ],
   "source": [
    "from sklearn.svm import SVC\n",
    "clf = SVC(gamma='auto')\n",
    "clf.fit(x_train, y_train)"
   ]
  },
  {
   "cell_type": "code",
   "execution_count": 19,
   "id": "d710dcc3",
   "metadata": {},
   "outputs": [
    {
     "data": {
      "text/plain": [
       "{'C': 1.0,\n",
       " 'break_ties': False,\n",
       " 'cache_size': 200,\n",
       " 'class_weight': None,\n",
       " 'coef0': 0.0,\n",
       " 'decision_function_shape': 'ovr',\n",
       " 'degree': 3,\n",
       " 'gamma': 'auto',\n",
       " 'kernel': 'rbf',\n",
       " 'max_iter': -1,\n",
       " 'probability': False,\n",
       " 'random_state': None,\n",
       " 'shrinking': True,\n",
       " 'tol': 0.001,\n",
       " 'verbose': False}"
      ]
     },
     "execution_count": 19,
     "metadata": {},
     "output_type": "execute_result"
    }
   ],
   "source": [
    "clf.get_params()"
   ]
  },
  {
   "cell_type": "code",
   "execution_count": 22,
   "id": "f2d6812d",
   "metadata": {},
   "outputs": [
    {
     "data": {
      "text/plain": [
       "0.08333333333333333"
      ]
     },
     "execution_count": 22,
     "metadata": {},
     "output_type": "execute_result"
    }
   ],
   "source": [
    "clf.score(x_test, y_test)"
   ]
  },
  {
   "cell_type": "code",
   "execution_count": null,
   "id": "3f079ffb",
   "metadata": {},
   "outputs": [],
   "source": []
  }
 ],
 "metadata": {
  "kernelspec": {
   "display_name": "CV-2013",
   "language": "python",
   "name": "cv-2013"
  },
  "language_info": {
   "codemirror_mode": {
    "name": "ipython",
    "version": 3
   },
   "file_extension": ".py",
   "mimetype": "text/x-python",
   "name": "python",
   "nbconvert_exporter": "python",
   "pygments_lexer": "ipython3",
   "version": "3.11.3"
  }
 },
 "nbformat": 4,
 "nbformat_minor": 5
}
